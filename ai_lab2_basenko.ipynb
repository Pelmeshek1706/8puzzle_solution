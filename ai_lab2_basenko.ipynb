{
 "cells": [
  {
   "cell_type": "code",
   "execution_count": 1,
   "id": "5f719782",
   "metadata": {},
   "outputs": [],
   "source": [
    "from queue import PriorityQueue"
   ]
  },
  {
   "cell_type": "code",
   "execution_count": 29,
   "id": "b394bb27",
   "metadata": {},
   "outputs": [],
   "source": [
    "#################################################################33"
   ]
  },
  {
   "cell_type": "code",
   "execution_count": 51,
   "id": "4be3dc43",
   "metadata": {},
   "outputs": [],
   "source": [
    "# Define the Manhattan distance heuristic function\n",
    "def manhattan_distance(state):\n",
    "    distance = 0\n",
    "    for i in range(3):\n",
    "        for j in range(3):\n",
    "            tile = state[3*i+j]\n",
    "            if tile != 0:\n",
    "                x, y = (tile-1) // 3, (tile-1) % 3\n",
    "                distance += abs(x-i) + abs(y-j)\n",
    "    return distance\n"
   ]
  },
  {
   "cell_type": "code",
   "execution_count": 58,
   "id": "35cc2127",
   "metadata": {},
   "outputs": [],
   "source": [
    "# алгоритм рекурсивного пошуку найкращого (RBFS) з обмеженням глибини\n",
    "def rbfs_search(state, f_limit, g, num_operations):\n",
    "    num_operations += 1\n",
    "    # Перевіряємо, чи поточний стан є цільовим\n",
    "    if state == goal_state:\n",
    "        return [state], g, num_operations\n",
    "\n",
    "    # Згенеруємо сусідні стани\n",
    "    neighbors = []\n",
    "    blank_tile_index = state.index(0)\n",
    "    for move in [-1, 1, -3, 3]:\n",
    "        neighbor_index = blank_tile_index + move\n",
    "        if neighbor_index < 0 or neighbor_index >= 9:\n",
    "            continue\n",
    "        if move == -1 and neighbor_index == 2:\n",
    "            continue\n",
    "        if move == 1 and neighbor_index == 3:\n",
    "            continue\n",
    "        if move == -3 and neighbor_index == 6:\n",
    "            continue\n",
    "        if move == 3 and neighbor_index == 5:\n",
    "            continue\n",
    "        neighbor_state = state[:]\n",
    "        neighbor_state[blank_tile_index], neighbor_state[neighbor_index] = neighbor_state[neighbor_index], neighbor_state[blank_tile_index]\n",
    "        neighbors.append(neighbor_state)\n",
    "\n",
    "    # Перевіряємо, чи немає поруч сусідів\n",
    "    if not neighbors:\n",
    "        return None, float('inf'), num_operations\n",
    "\n",
    "    # Обчислимо f-рахунки сусідів\n",
    "    for neighbor in neighbors:\n",
    "        neighbor_f_score = max(manhattan_distance(neighbor) + g, f_limit)\n",
    "\n",
    "    # Повторюємо виклик RBFS для сусіда з найнижчим f-score, доки не буде знайдено рішення\n",
    "    while True:\n",
    "        # сортуємо сусідів за f-score\n",
    "        neighbors.sort(key=lambda neighbor: max(manhattan_distance(neighbor) + g, f_limit))\n",
    "\n",
    "        # отримуємо кращого сусіда\n",
    "        best_neighbor = neighbors[0]\n",
    "        best_neighbor_f_score = max(manhattan_distance(best_neighbor) + g, f_limit)\n",
    "\n",
    "        # Перевіримо, чи перевищує f-score найкращого сусіда f-limit\n",
    "        if best_neighbor_f_score > f_limit:\n",
    "            return None, best_neighbor_f_score, num_operations\n",
    "\n",
    "        # Обчислити альтернативний f-score найкращого сусіда\n",
    "        alternative_f_score = float('inf')\n",
    "        if len(neighbors) > 1:\n",
    "            alternative_f_score = max(manhattan_distance(neighbors[1]) + g, f_limit)\n",
    "\n",
    "        # Рекурсивно викликаємо RBFS для найкращого сусіда з альтернативним f-score\n",
    "        result, best_neighbor_f_score, num_operations = rbfs_search(best_neighbor, min(f_limit, alternative_f_score), g+1, num_operations)\n",
    "\n",
    "        # Перевіряємо, чи знайдено рішення\n",
    "        if result is not None:\n",
    "            return [state] + result, best_neighbor_f_score, num_operations"
   ]
  },
  {
   "cell_type": "code",
   "execution_count": 61,
   "id": "205aa462",
   "metadata": {},
   "outputs": [
    {
     "name": "stdout",
     "output_type": "stream",
     "text": [
      "Solution found: [1, 2, 3, 4, 5, 6, 7, 8, 0]\n",
      "Depth of the solution: 3\n",
      "Count operations: 4\n",
      "Solution Path: [[1, 0, 3, 4, 2, 5, 7, 8, 6], [1, 2, 3, 4, 0, 5, 7, 8, 6], [1, 2, 3, 4, 5, 0, 7, 8, 6], [1, 2, 3, 4, 5, 6, 7, 8, 0]]\n",
      "Wall time: 0 ns\n"
     ]
    }
   ],
   "source": [
    "%%time\n",
    "#RBFS\n",
    "goal_state = [1, 2, 3, 4, 5, 6, 7, 8, 0]\n",
    "initial_state = [1, 0, 3, 4, 2, 5, 7, 8, 6]\n",
    "f_limit = manhattan_distance(initial_state)\n",
    "g = 0 # вартість шляху від початкового стану до поточного \n",
    "num_operations = 0\n",
    "while True:\n",
    "    solution, f_limit, num_operations = rbfs_search(initial_state, f_limit, g, num_operations)\n",
    "    if result is not None:\n",
    "        print('Solution found:', solution[-1])\n",
    "        print('Depth of the solution:', f_limit)\n",
    "        print('Count operations:', num_operations)\n",
    "        print('Solution Path:', solution)\n",
    "        break"
   ]
  },
  {
   "cell_type": "code",
   "execution_count": 54,
   "id": "7fd2e3d0",
   "metadata": {},
   "outputs": [],
   "source": [
    "#LDFS algorithm\n",
    "def limited_dfs_search(state, limit):\n",
    "    # Перевіряємо, чи поточний стан є цільовим\n",
    "    if state == goal_state:\n",
    "        return [state]\n",
    "\n",
    "    # Check if the depth limit has been reached\n",
    "    if limit == 0:\n",
    "        return None\n",
    "\n",
    "    # Згенеруємо сусідні стани\n",
    "    blank_tile_index = state.index(0)\n",
    "    for move in [-1, 1, -3, 3]:\n",
    "        neighbor_index = blank_tile_index + move\n",
    "        if neighbor_index < 0 or neighbor_index >= 9:\n",
    "            continue\n",
    "        if move == -1 and neighbor_index == 2:\n",
    "            continue\n",
    "        if move == 1 and neighbor_index == 3:\n",
    "            continue\n",
    "        if move == -3 and neighbor_index == 6:\n",
    "            continue\n",
    "        if move == 3 and neighbor_index == 5:\n",
    "            continue\n",
    "        neighbor_state = state[:]\n",
    "        neighbor_state[blank_tile_index], neighbor_state[neighbor_index] = neighbor_state[neighbor_index], neighbor_state[blank_tile_index]\n",
    "        # Рекурсивний пошук сусідніх станів зі зменшеною глибиною\n",
    "        result = limited_dfs_search(neighbor_state, limit-1)\n",
    "        if result is not None:\n",
    "            return [state] + result\n",
    "    global num_operations\n",
    "    num_operations += 1\n",
    "\n",
    "    # Return None якщо розв'язок не знайдено\n",
    "    return None\n",
    "\n",
    "# Визначаємо алгоритм ітеративного пошуку з поглибленням\n",
    "def iterative_deepening_search(initial_state):\n",
    "    # Ініціалізуємо межу глибини та кількість операцій\n",
    "    limit = 0\n",
    "    global num_operations\n",
    "    num_operations = 0\n",
    "\n",
    "    # Збільшуємо граничну глибину, доки не буде знайдено рішення\n",
    "    while True:\n",
    "        result = limited_dfs_search(initial_state, limit)\n",
    "        if result is not None:\n",
    "            return result\n",
    "        limit += 1"
   ]
  },
  {
   "cell_type": "code",
   "execution_count": 64,
   "id": "f31f134f",
   "metadata": {},
   "outputs": [
    {
     "name": "stdout",
     "output_type": "stream",
     "text": [
      "Solution found: [1, 2, 3, 4, 5, 6, 7, 8, 0]\n",
      "Number of operations: 11\n",
      "Solution path:  [[1, 0, 3, 4, 2, 5, 7, 8, 6], [1, 2, 3, 4, 0, 5, 7, 8, 6], [1, 2, 3, 4, 5, 0, 7, 8, 6], [1, 2, 3, 4, 5, 6, 7, 8, 0]]\n",
      "Wall time: 0 ns\n"
     ]
    }
   ],
   "source": [
    "%%time\n",
    "#LDFS\n",
    "goal_state = [1, 2, 3, 4, 5, 6, 7, 8, 0]\n",
    "initial_state = [1, 0, 3, 4, 2, 5, 7, 8, 6]\n",
    "solution = iterative_deepening_search(initial_state)\n",
    "if solution is not None:\n",
    "    print(\"Solution found:\", solution[-1])\n",
    "    print(\"Number of operations:\", num_operations)\n",
    "    print(\"Solution path: \", solution)\n",
    "else:\n",
    "    print(\"No solution found.\")"
   ]
  },
  {
   "cell_type": "code",
   "execution_count": null,
   "id": "5d1f80a4",
   "metadata": {},
   "outputs": [],
   "source": []
  }
 ],
 "metadata": {
  "kernelspec": {
   "display_name": "Python 3 (ipykernel)",
   "language": "python",
   "name": "python3"
  },
  "language_info": {
   "codemirror_mode": {
    "name": "ipython",
    "version": 3
   },
   "file_extension": ".py",
   "mimetype": "text/x-python",
   "name": "python",
   "nbconvert_exporter": "python",
   "pygments_lexer": "ipython3",
   "version": "3.9.13"
  }
 },
 "nbformat": 4,
 "nbformat_minor": 5
}
